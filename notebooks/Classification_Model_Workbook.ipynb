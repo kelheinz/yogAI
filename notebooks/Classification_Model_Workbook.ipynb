{
 "cells": [
  {
   "cell_type": "code",
   "execution_count": 70,
   "metadata": {},
   "outputs": [],
   "source": [
    "import pandas as pd\n",
    "pd.options.mode.chained_assignment = None  # default='warn'\n",
    "import numpy as np\n",
    "import matplotlib.pyplot as plt\n",
    "import seaborn as sns\n",
    "import os\n",
    "from sklearn.model_selection import train_test_split\n",
    "from sklearn.preprocessing import StandardScaler\n",
    "from sklearn.linear_model import LogisticRegression\n",
    "from sklearn.ensemble import RandomForestClassifier\n",
    "from sklearn.model_selection import GridSearchCV\n",
    "from sklearn.metrics import accuracy_score, classification_report\n",
    "from tensorflow.keras.models import Sequential\n",
    "from tensorflow.keras.layers import Dense, Dropout, BatchNormalization\n",
    "from tensorflow.keras.utils import to_categorical\n",
    "from tensorflow.keras.layers import Dropout\n",
    "from tensorflow.keras import regularizers\n",
    "from sklearn.naive_bayes import GaussianNB"
   ]
  },
  {
   "attachments": {},
   "cell_type": "markdown",
   "metadata": {},
   "source": [
    "# Data Set Up"
   ]
  },
  {
   "cell_type": "code",
   "execution_count": 4,
   "metadata": {},
   "outputs": [
    {
     "data": {
      "text/html": [
       "<div>\n",
       "<style scoped>\n",
       "    .dataframe tbody tr th:only-of-type {\n",
       "        vertical-align: middle;\n",
       "    }\n",
       "\n",
       "    .dataframe tbody tr th {\n",
       "        vertical-align: top;\n",
       "    }\n",
       "\n",
       "    .dataframe thead th {\n",
       "        text-align: right;\n",
       "    }\n",
       "</style>\n",
       "<table border=\"1\" class=\"dataframe\">\n",
       "  <thead>\n",
       "    <tr style=\"text-align: right;\">\n",
       "      <th></th>\n",
       "      <th>Filename</th>\n",
       "      <th>blendshapes</th>\n",
       "      <th>landmarks</th>\n",
       "      <th>Pose</th>\n",
       "      <th>Face Obstructed</th>\n",
       "      <th>Hands on Face</th>\n",
       "      <th>Notes</th>\n",
       "      <th>Creator</th>\n",
       "      <th>Gender</th>\n",
       "      <th>Apparent_Race</th>\n",
       "    </tr>\n",
       "  </thead>\n",
       "  <tbody>\n",
       "    <tr>\n",
       "      <th>0</th>\n",
       "      <td>Pose_9_Yoga-with-Souvik_317.jpg</td>\n",
       "      <td>[5.608021069747338e-07, 0.0013631416950374842,...</td>\n",
       "      <td>[(0.5571142435073853, 0.4451383352279663, -0.0...</td>\n",
       "      <td>0.0</td>\n",
       "      <td>0.0</td>\n",
       "      <td>0.0</td>\n",
       "      <td>NaN</td>\n",
       "      <td>Yoga-with-Souvik</td>\n",
       "      <td>M</td>\n",
       "      <td>Indian</td>\n",
       "    </tr>\n",
       "    <tr>\n",
       "      <th>1</th>\n",
       "      <td>Pose_9_Yoga-with-Souvik_316.jpg</td>\n",
       "      <td>[7.196812248366768e-07, 0.002077932935208082, ...</td>\n",
       "      <td>[(0.5588706731796265, 0.440979927778244, -0.02...</td>\n",
       "      <td>0.0</td>\n",
       "      <td>0.0</td>\n",
       "      <td>0.0</td>\n",
       "      <td>NaN</td>\n",
       "      <td>Yoga-with-Souvik</td>\n",
       "      <td>M</td>\n",
       "      <td>Indian</td>\n",
       "    </tr>\n",
       "    <tr>\n",
       "      <th>2</th>\n",
       "      <td>Pose_9_Yoga-with-Souvik_315.jpg</td>\n",
       "      <td>[1.1721351711457828e-07, 0.0010945542016997933...</td>\n",
       "      <td>[(0.5612891912460327, 0.42788931727409363, -0....</td>\n",
       "      <td>9.0</td>\n",
       "      <td>0.0</td>\n",
       "      <td>0.0</td>\n",
       "      <td>NaN</td>\n",
       "      <td>Yoga-with-Souvik</td>\n",
       "      <td>M</td>\n",
       "      <td>Indian</td>\n",
       "    </tr>\n",
       "    <tr>\n",
       "      <th>3</th>\n",
       "      <td>Pose_9_Yoga-with-Souvik_314.jpg</td>\n",
       "      <td>[1.4378076684806729e-06, 0.022128582000732422,...</td>\n",
       "      <td>[(0.5560778379440308, 0.43858107924461365, -0....</td>\n",
       "      <td>0.0</td>\n",
       "      <td>0.0</td>\n",
       "      <td>0.0</td>\n",
       "      <td>NaN</td>\n",
       "      <td>Yoga-with-Souvik</td>\n",
       "      <td>M</td>\n",
       "      <td>Indian</td>\n",
       "    </tr>\n",
       "    <tr>\n",
       "      <th>4</th>\n",
       "      <td>Pose_9_Yoga-with-Souvik_313.jpg</td>\n",
       "      <td>[5.819963462272426e-07, 0.007496405392885208, ...</td>\n",
       "      <td>[(0.560219943523407, 0.433199405670166, -0.028...</td>\n",
       "      <td>0.0</td>\n",
       "      <td>0.0</td>\n",
       "      <td>0.0</td>\n",
       "      <td>NaN</td>\n",
       "      <td>Yoga-with-Souvik</td>\n",
       "      <td>M</td>\n",
       "      <td>Indian</td>\n",
       "    </tr>\n",
       "  </tbody>\n",
       "</table>\n",
       "</div>"
      ],
      "text/plain": [
       "                          Filename  \\\n",
       "0  Pose_9_Yoga-with-Souvik_317.jpg   \n",
       "1  Pose_9_Yoga-with-Souvik_316.jpg   \n",
       "2  Pose_9_Yoga-with-Souvik_315.jpg   \n",
       "3  Pose_9_Yoga-with-Souvik_314.jpg   \n",
       "4  Pose_9_Yoga-with-Souvik_313.jpg   \n",
       "\n",
       "                                         blendshapes  \\\n",
       "0  [5.608021069747338e-07, 0.0013631416950374842,...   \n",
       "1  [7.196812248366768e-07, 0.002077932935208082, ...   \n",
       "2  [1.1721351711457828e-07, 0.0010945542016997933...   \n",
       "3  [1.4378076684806729e-06, 0.022128582000732422,...   \n",
       "4  [5.819963462272426e-07, 0.007496405392885208, ...   \n",
       "\n",
       "                                           landmarks  Pose  Face Obstructed  \\\n",
       "0  [(0.5571142435073853, 0.4451383352279663, -0.0...   0.0              0.0   \n",
       "1  [(0.5588706731796265, 0.440979927778244, -0.02...   0.0              0.0   \n",
       "2  [(0.5612891912460327, 0.42788931727409363, -0....   9.0              0.0   \n",
       "3  [(0.5560778379440308, 0.43858107924461365, -0....   0.0              0.0   \n",
       "4  [(0.560219943523407, 0.433199405670166, -0.028...   0.0              0.0   \n",
       "\n",
       "   Hands on Face Notes           Creator Gender Apparent_Race  \n",
       "0            0.0   NaN  Yoga-with-Souvik      M        Indian  \n",
       "1            0.0   NaN  Yoga-with-Souvik      M        Indian  \n",
       "2            0.0   NaN  Yoga-with-Souvik      M        Indian  \n",
       "3            0.0   NaN  Yoga-with-Souvik      M        Indian  \n",
       "4            0.0   NaN  Yoga-with-Souvik      M        Indian  "
      ]
     },
     "execution_count": 4,
     "metadata": {},
     "output_type": "execute_result"
    }
   ],
   "source": [
    "df = pd.read_csv('github/data/model1_results.csv')\n",
    "df.head()"
   ]
  },
  {
   "cell_type": "code",
   "execution_count": 10,
   "metadata": {},
   "outputs": [],
   "source": [
    "# Drop rows with NaN in Pose\n",
    "df.dropna(subset=['Pose'], inplace=True)\n",
    "\n",
    "# Get Unique IDs\n",
    "uid=df.Filename\n",
    "\n",
    "# Get Creator names\n",
    "creator=df.Creator\n",
    "\n",
    "# Split out and rename belndshape features\n",
    "features = df.blendshapes.str.replace('[', '', regex=True)\\\n",
    "    .str.replace(']', '', regex=True).str.replace(\"'\", '', regex=True)\\\n",
    "        .str.split(', ', expand=True).astype(float)\n",
    "feature_names = {\n",
    "0:'browDownLeft', 1:'browDownRight', 2:'browInnerUp', 3:'browOuterUpLeft',\n",
    "4:'browOuterUpRight', 5:'cheekPuff', 6:'cheekSquintLeft', 7:'cheekSquintRight',\n",
    "8:'eyeBlinkLeft', 9:'eyeBlinkRight', 10:'eyeLookDownLeft', 11:'eyeLookDownRight',\n",
    "12:'eyeLookInLeft', 13:'eyeLookInRight', 14:'eyeLookOutLeft', 15:'eyeLookOutRight',\n",
    "16:'eyeLookUpLeft', 17:'eyeLookUpRight', 18:'eyeSquintLeft', 19:'eyeSquintRight',\n",
    "20:'eyeWideLeft', 21:'eyeWideRight', 22:'jawForward', 23:'jawLeft',\n",
    "24:'jawOpen', 25:'jawRight', 26:'mouthClose', 27:'mouthDimpleLeft',\n",
    "28:'mouthDimpleRight', 29:'mouthFrownLeft', 30:'mouthFrownRight',\n",
    "31:'mouthFunnel', 32:'mouthLeft', 33:'mouthLowerDownLeft',\n",
    "34:'mouthLowerDownRight', 35:'mouthPressLeft', 36:'mouthPressRight',\n",
    "37:'mouthPucker', 38:'mouthRight', 39:'mouthRollLower', 40:'mouthRollUpper',\n",
    "41:'mouthShrugLower', 42:'mouthShrugUpper', 43:'mouthSmileLeft',\n",
    "44:'mouthSmileRight', 45:'mouthStretchLeft', 46:'mouthStretchRight',\n",
    "47:'mouthUpperUpLeft', 48:'mouthUpperUpRight', 49:'noseSneerLeft',\n",
    "50:'noseSneerRight', 51:'tongueOut'\n",
    "}\n",
    "features.rename(columns=feature_names, inplace=True)\n",
    "\n",
    "# Split out labels\n",
    "labels = df.Pose.astype(int)"
   ]
  },
  {
   "attachments": {},
   "cell_type": "markdown",
   "metadata": {},
   "source": [
    "# Test and Train Split"
   ]
  },
  {
   "cell_type": "code",
   "execution_count": 11,
   "metadata": {},
   "outputs": [],
   "source": [
    "train_creators = ['AVA-LEE', 'Accents-Way-English', 'Adam-Fields-DC',\n",
    "                  'Brett-Maverick', 'Brian-Abelson', 'Club-marea-oficial',\n",
    "                  'Daniela-Suarez', 'Elemental-Face-Yoga', 'Elvin-ile-Yoga',\n",
    "                  'En-Casa-Contigo', 'Ergotopia', 'FACEROBICS', 'Face-Up',\n",
    "                  'Face-Yoga-Expert', 'Face-Yoga-Method', 'Facial-Yoga-Plan',\n",
    "                  'FacialUP!', 'Fit-Eagles', 'Funfitt-with-Susana-Yabar',\n",
    "                  'Gabriela-Litschi', 'Glowinface', 'HisDream', 'IBC-Mangai',\n",
    "                  'IBC-Mangai-L', 'IBC-Mangai-R', 'Instituto-Yvette-pons',\n",
    "                  'Khichi-Beauty', 'Lakshya-Junction', 'LibertadDigital',\n",
    "                  'MIZI', 'Masumi-Channel', 'Muscle-Watching-R', 'NIVEA-espana',\n",
    "                  'OppServe', 'Qi-Medicine-Acupunture', 'Shraddhas-Tapperz-Dance',\n",
    "                  'Sientete-Bien', 'Stylecraze-Fitness', 'The-Uma-Show',\n",
    "                  'TrabajaTuCuerpo', 'Valentina-Sadak', 'Verena-Boix', 'Yoga-Face',\n",
    "                  'Yoga-with-Souvik', 'isaac-yiu', 'isasaweis', 'thefaceyogalab']\n",
    "\n",
    "test_creators = ['Anna-Veronika', 'Blush-with-me-Parmita', 'Doctora-Claudia-Garcia',\n",
    "                 'Gesund-durchs-Leben', 'Goldbeauty', 'Muscle-Watching-L', 'Natty',\n",
    "                 'Pilates-by-Lisa', 'Shanthi-Kasiraj', 'Siddhi-yoga-hindi',\n",
    "                 'templo-del-masaje']\n"
   ]
  },
  {
   "cell_type": "code",
   "execution_count": 15,
   "metadata": {},
   "outputs": [],
   "source": [
    "df_train = df[df.Creator.isin(train_creators)]\n",
    "df_test = df[df.Creator.isin(test_creators)]"
   ]
  },
  {
   "attachments": {},
   "cell_type": "markdown",
   "metadata": {},
   "source": [
    "## Test and Train Visualizations"
   ]
  },
  {
   "cell_type": "code",
   "execution_count": 19,
   "metadata": {},
   "outputs": [
    {
     "data": {
      "image/png": "[encoded data removed]",
      "text/plain": [
       "<Figure size 432x288 with 1 Axes>"
      ]
     },
     "metadata": {
      "needs_background": "light"
     },
     "output_type": "display_data"
    }
   ],
   "source": [
    "# Plot count of each pose in training set\n",
    "ax = sns.countplot(x=\"Pose\", data=df_train)\n",
    "ax.set_title('Training Split Pose Data')\n",
    "plt.xlabel('Pose')\n",
    "plt.ylabel(f\"Number of Images\\nTotal Images: {len(df_train)}\")\n",
    "plt.show()"
   ]
  },
  {
   "cell_type": "code",
   "execution_count": 18,
   "metadata": {},
   "outputs": [
    {
     "data": {
      "image/png": "[encoded data removed]",
      "text/plain": [
       "<Figure size 432x288 with 1 Axes>"
      ]
     },
     "metadata": {
      "needs_background": "light"
     },
     "output_type": "display_data"
    }
   ],
   "source": [
    "# Plot count of each pose in testing set\n",
    "ax = sns.countplot(x=\"Pose\", data=df_test)\n",
    "ax.set_title('Testing Split Pose Data')\n",
    "plt.xlabel('Pose')\n",
    "plt.ylabel(f'Number of Images\\nTotal Images: {len(df_test)}')\n",
    "plt.show()"
   ]
  },
  {
   "cell_type": "code",
   "execution_count": 22,
   "metadata": {},
   "outputs": [
    {
     "data": {
      "image/png": "[encoded data removed]",
      "text/plain": [
       "<Figure size 432x288 with 1 Axes>"
      ]
     },
     "metadata": {
      "needs_background": "light"
     },
     "output_type": "display_data"
    }
   ],
   "source": [
    "# Plot gender data for training set\n",
    "ax = sns.countplot(x='Pose', hue='Gender', data=df_train)\n",
    "ax.set_title('Gender by Pose in Training Set')\n",
    "plt.xlabel('Pose')\n",
    "plt.ylabel(f'Number of Images\\nTotal Images: {len(df_train)}')\n",
    "plt.show()"
   ]
  },
  {
   "cell_type": "code",
   "execution_count": 23,
   "metadata": {},
   "outputs": [
    {
     "data": {
      "image/png": "[encoded data removed]",
      "text/plain": [
       "<Figure size 432x288 with 1 Axes>"
      ]
     },
     "metadata": {
      "needs_background": "light"
     },
     "output_type": "display_data"
    }
   ],
   "source": [
    "# Plot gender data for testing set\n",
    "ax = sns.countplot(x='Pose', hue='Gender', data=df_test)\n",
    "ax.set_title('Gender by Pose in Testing Set')\n",
    "plt.xlabel('Pose')\n",
    "plt.ylabel(f'Number of Images\\nTotal Images: {len(df_test)}')\n",
    "plt.show()"
   ]
  },
  {
   "cell_type": "code",
   "execution_count": 26,
   "metadata": {},
   "outputs": [
    {
     "data": {
      "image/png": "[encoded data removed]",
      "text/plain": [
       "<Figure size 432x288 with 1 Axes>"
      ]
     },
     "metadata": {
      "needs_background": "light"
     },
     "output_type": "display_data"
    }
   ],
   "source": [
    "# Plot racial data for training set\n",
    "order = ['Asian', 'Black', 'Indian', 'White/hispanic']\n",
    "ax = sns.countplot(x='Pose', hue='Apparent_Race', data=df_train, hue_order=order)\n",
    "ax.set_title('Race by Pose in Training Set')\n",
    "plt.xlabel('Pose')\n",
    "plt.ylabel(f'Number of Images\\nTotal Images: {len(df_train)}')\n",
    "plt.show()"
   ]
  },
  {
   "cell_type": "code",
   "execution_count": 27,
   "metadata": {},
   "outputs": [
    {
     "data": {
      "image/png": "[encoded data removed]",
      "text/plain": [
       "<Figure size 432x288 with 1 Axes>"
      ]
     },
     "metadata": {
      "needs_background": "light"
     },
     "output_type": "display_data"
    }
   ],
   "source": [
    "# Plot racial data for testing set\n",
    "ax = sns.countplot(x='Pose', hue='Apparent_Race', data=df_test, hue_order=order)\n",
    "ax.set_title('Race by Pose in Testing Set')\n",
    "plt.xlabel('Pose')\n",
    "plt.ylabel(f'Number of Images\\nTotal Images: {len(df_test)}')\n",
    "plt.show()"
   ]
  },
  {
   "attachments": {},
   "cell_type": "markdown",
   "metadata": {},
   "source": [
    "# Modeling"
   ]
  },
  {
   "cell_type": "code",
   "execution_count": 33,
   "metadata": {},
   "outputs": [],
   "source": [
    "# Creator based feature split\n",
    "X_train = features[creator.isin(train_creators)]\n",
    "X_test = features[creator.isin(test_creators)]\n",
    "\n",
    "# Scaled features\n",
    "scaler = StandardScaler()\n",
    "X_train_scaled = scaler.fit_transform(X_train)\n",
    "X_test_scaled = scaler.transform(X_test)\n",
    "\n",
    "# Creator based label split\n",
    "y_train = labels[creator.isin(train_creators)]\n",
    "y_train_categorical = to_categorical(y_train)\n",
    "y_test = labels[creator.isin(test_creators)]\n",
    "y_test_categorical = to_categorical(y_test)\n",
    "\n",
    "# Random split\n",
    "X_train_rand, X_test_rand, y_train_rand, y_test_rand = train_test_split(features, labels, test_size=0.25, random_state=42)\n",
    "y_train_rand_categorical = to_categorical(y_train_rand)\n",
    "y_test_rand_categorical = to_categorical(y_test_rand)"
   ]
  },
  {
   "cell_type": "code",
   "execution_count": 38,
   "metadata": {},
   "outputs": [],
   "source": [
    "model_storage = {}"
   ]
  },
  {
   "attachments": {},
   "cell_type": "markdown",
   "metadata": {},
   "source": [
    "## Logistic Regression"
   ]
  },
  {
   "cell_type": "code",
   "execution_count": 51,
   "metadata": {},
   "outputs": [
    {
     "name": "stdout",
     "output_type": "stream",
     "text": [
      "Logistic Regression Accuracy: 0.7053775743707094\n",
      "Classification Report:\n",
      "              precision    recall  f1-score   support\n",
      "\n",
      "           0       0.74      0.75      0.74       332\n",
      "           1       0.56      0.39      0.46       171\n",
      "           2       0.77      0.80      0.78       127\n",
      "           3       0.58      0.90      0.71       119\n",
      "           4       1.00      0.47      0.64       103\n",
      "           5       0.94      0.95      0.94       142\n",
      "           6       0.40      0.42      0.41        73\n",
      "           7       0.60      0.66      0.63       337\n",
      "           8       0.82      0.87      0.84       122\n",
      "           9       0.81      0.74      0.77       222\n",
      "\n",
      "    accuracy                           0.71      1748\n",
      "   macro avg       0.72      0.70      0.69      1748\n",
      "weighted avg       0.72      0.71      0.70      1748\n",
      "\n"
     ]
    }
   ],
   "source": [
    "# Creator Based Test/Train Split\n",
    "lr = LogisticRegression(solver='lbfgs', multi_class='multinomial', max_iter=1000)\n",
    "lr.fit(X_train, y_train)\n",
    "y_pred = lr.predict(X_test)\n",
    "print(f'Logistic Regression Accuracy: {accuracy_score(y_test, y_pred)}')\n",
    "model_storage['LR - Creator Split'] = classification_report(y_test, y_pred, output_dict=True)\n",
    "print(f\"Classification Report:\\n{classification_report(y_test, y_pred)}\")"
   ]
  },
  {
   "cell_type": "code",
   "execution_count": 53,
   "metadata": {},
   "outputs": [
    {
     "name": "stdout",
     "output_type": "stream",
     "text": [
      "Logistic Regression Accuracy: 0.8182850653038046\n",
      "Classification Report:\n",
      "              precision    recall  f1-score   support\n",
      "\n",
      "           0       0.81      0.68      0.74       321\n",
      "           1       0.65      0.62      0.63       161\n",
      "           2       0.90      0.95      0.93       139\n",
      "           3       0.90      0.94      0.92       130\n",
      "           4       0.87      0.81      0.84       120\n",
      "           5       0.95      0.95      0.95       133\n",
      "           6       0.76      0.68      0.71        74\n",
      "           7       0.80      0.85      0.83       266\n",
      "           8       0.86      0.91      0.88       190\n",
      "           9       0.76      0.86      0.81       227\n",
      "\n",
      "    accuracy                           0.82      1761\n",
      "   macro avg       0.82      0.82      0.82      1761\n",
      "weighted avg       0.82      0.82      0.82      1761\n",
      "\n"
     ]
    }
   ],
   "source": [
    "# Random Test/Train Split\n",
    "lr = LogisticRegression(solver='lbfgs', multi_class='multinomial', max_iter=1000)\n",
    "lr.fit(X_train_rand, y_train_rand)\n",
    "y_pred = lr.predict(X_test_rand)\n",
    "print(f'Logistic Regression Accuracy: {accuracy_score(y_test_rand, y_pred)}')\n",
    "model_storage['LR - Rand Split'] = classification_report(y_test_rand, y_pred, output_dict=True)\n",
    "print(f\"Classification Report:\\n{classification_report(y_test_rand, y_pred)}\")"
   ]
  },
  {
   "attachments": {},
   "cell_type": "markdown",
   "metadata": {},
   "source": [
    "## NN "
   ]
  },
  {
   "cell_type": "code",
   "execution_count": 62,
   "metadata": {},
   "outputs": [
    {
     "name": "stdout",
     "output_type": "stream",
     "text": [
      "Epoch 1/100\n",
      "166/166 [==============================] - 2s 4ms/step - loss: 4.1976 - accuracy: 0.5837 - val_loss: 4.3608 - val_accuracy: 0.2883\n",
      "Epoch 2/100\n",
      "166/166 [==============================] - 1s 3ms/step - loss: 2.9092 - accuracy: 0.7393 - val_loss: 3.3539 - val_accuracy: 0.4050\n",
      "Epoch 3/100\n",
      "166/166 [==============================] - 1s 4ms/step - loss: 2.2004 - accuracy: 0.7877 - val_loss: 2.3917 - val_accuracy: 0.6053\n",
      "Epoch 4/100\n",
      "166/166 [==============================] - 1s 3ms/step - loss: 1.7213 - accuracy: 0.8126 - val_loss: 2.0631 - val_accuracy: 0.6487\n",
      "Epoch 5/100\n",
      "166/166 [==============================] - 1s 4ms/step - loss: 1.4142 - accuracy: 0.8217 - val_loss: 1.9701 - val_accuracy: 0.5624\n",
      "Epoch 6/100\n",
      "166/166 [==============================] - 1s 3ms/step - loss: 1.2006 - accuracy: 0.8328 - val_loss: 1.8175 - val_accuracy: 0.6333\n",
      "Epoch 7/100\n",
      "166/166 [==============================] - 0s 3ms/step - loss: 1.0495 - accuracy: 0.8421 - val_loss: 1.7972 - val_accuracy: 0.6030\n",
      "Epoch 8/100\n",
      "166/166 [==============================] - 1s 3ms/step - loss: 0.9851 - accuracy: 0.8393 - val_loss: 1.4535 - val_accuracy: 0.7019\n",
      "Epoch 9/100\n",
      "166/166 [==============================] - 1s 3ms/step - loss: 0.9143 - accuracy: 0.8385 - val_loss: 1.4296 - val_accuracy: 0.6688\n",
      "Epoch 10/100\n",
      "166/166 [==============================] - 1s 4ms/step - loss: 0.8728 - accuracy: 0.8398 - val_loss: 1.3284 - val_accuracy: 0.7037\n",
      "Epoch 11/100\n",
      "166/166 [==============================] - 1s 4ms/step - loss: 0.8273 - accuracy: 0.8487 - val_loss: 1.4884 - val_accuracy: 0.6362\n",
      "Epoch 12/100\n",
      "166/166 [==============================] - 1s 3ms/step - loss: 0.8039 - accuracy: 0.8430 - val_loss: 1.5702 - val_accuracy: 0.6276\n",
      "Epoch 13/100\n",
      "166/166 [==============================] - 1s 4ms/step - loss: 0.7872 - accuracy: 0.8479 - val_loss: 1.5164 - val_accuracy: 0.6196\n",
      "Epoch 14/100\n",
      "166/166 [==============================] - 1s 4ms/step - loss: 0.7530 - accuracy: 0.8625 - val_loss: 1.6035 - val_accuracy: 0.6167\n",
      "Epoch 15/100\n",
      "166/166 [==============================] - 1s 4ms/step - loss: 0.7474 - accuracy: 0.8595 - val_loss: 1.5396 - val_accuracy: 0.6413\n",
      "Epoch 16/100\n",
      "166/166 [==============================] - 1s 4ms/step - loss: 0.7262 - accuracy: 0.8602 - val_loss: 1.4904 - val_accuracy: 0.6402\n",
      "Epoch 17/100\n",
      "166/166 [==============================] - 1s 3ms/step - loss: 0.7300 - accuracy: 0.8578 - val_loss: 1.5292 - val_accuracy: 0.6087\n",
      "Epoch 18/100\n",
      "166/166 [==============================] - 1s 4ms/step - loss: 0.6981 - accuracy: 0.8621 - val_loss: 1.4509 - val_accuracy: 0.6407\n",
      "Epoch 19/100\n",
      "166/166 [==============================] - 1s 4ms/step - loss: 0.7160 - accuracy: 0.8604 - val_loss: 1.5380 - val_accuracy: 0.6447\n",
      "Epoch 20/100\n",
      "166/166 [==============================] - 1s 5ms/step - loss: 0.7003 - accuracy: 0.8629 - val_loss: 1.5349 - val_accuracy: 0.6459\n",
      "Epoch 21/100\n",
      "166/166 [==============================] - 1s 4ms/step - loss: 0.6827 - accuracy: 0.8666 - val_loss: 1.5384 - val_accuracy: 0.6602\n",
      "Epoch 22/100\n",
      "166/166 [==============================] - 0s 3ms/step - loss: 0.6807 - accuracy: 0.8629 - val_loss: 1.5630 - val_accuracy: 0.6470\n",
      "Epoch 23/100\n",
      "166/166 [==============================] - 0s 3ms/step - loss: 0.6745 - accuracy: 0.8672 - val_loss: 1.4866 - val_accuracy: 0.6419\n",
      "Epoch 24/100\n",
      "166/166 [==============================] - 0s 3ms/step - loss: 0.6761 - accuracy: 0.8683 - val_loss: 1.3689 - val_accuracy: 0.6487\n",
      "Epoch 25/100\n",
      "166/166 [==============================] - 0s 3ms/step - loss: 0.6601 - accuracy: 0.8702 - val_loss: 1.5627 - val_accuracy: 0.6487\n",
      "Epoch 26/100\n",
      "166/166 [==============================] - 1s 4ms/step - loss: 0.6618 - accuracy: 0.8700 - val_loss: 1.3779 - val_accuracy: 0.6636\n",
      "Epoch 27/100\n",
      "166/166 [==============================] - 1s 3ms/step - loss: 0.6554 - accuracy: 0.8695 - val_loss: 1.3769 - val_accuracy: 0.6527\n",
      "Epoch 28/100\n",
      "166/166 [==============================] - 1s 4ms/step - loss: 0.6370 - accuracy: 0.8738 - val_loss: 1.6272 - val_accuracy: 0.6156\n",
      "Epoch 29/100\n",
      "166/166 [==============================] - 1s 3ms/step - loss: 0.6442 - accuracy: 0.8708 - val_loss: 1.3629 - val_accuracy: 0.6882\n",
      "Epoch 30/100\n",
      "166/166 [==============================] - 1s 3ms/step - loss: 0.6265 - accuracy: 0.8763 - val_loss: 1.2722 - val_accuracy: 0.6871\n",
      "Epoch 31/100\n",
      "166/166 [==============================] - 1s 3ms/step - loss: 0.6270 - accuracy: 0.8772 - val_loss: 1.5577 - val_accuracy: 0.6196\n",
      "Epoch 32/100\n",
      "166/166 [==============================] - 1s 4ms/step - loss: 0.6430 - accuracy: 0.8702 - val_loss: 1.8421 - val_accuracy: 0.6087\n",
      "Epoch 33/100\n",
      "166/166 [==============================] - 1s 5ms/step - loss: 0.6368 - accuracy: 0.8683 - val_loss: 1.5915 - val_accuracy: 0.6230\n",
      "Epoch 34/100\n",
      "166/166 [==============================] - 1s 4ms/step - loss: 0.6440 - accuracy: 0.8712 - val_loss: 1.4467 - val_accuracy: 0.6619\n",
      "Epoch 35/100\n",
      "166/166 [==============================] - 1s 3ms/step - loss: 0.6233 - accuracy: 0.8744 - val_loss: 1.6215 - val_accuracy: 0.6287\n",
      "Epoch 36/100\n",
      "166/166 [==============================] - 1s 3ms/step - loss: 0.6220 - accuracy: 0.8731 - val_loss: 1.7216 - val_accuracy: 0.6236\n",
      "Epoch 37/100\n",
      "166/166 [==============================] - 1s 3ms/step - loss: 0.6143 - accuracy: 0.8765 - val_loss: 1.6032 - val_accuracy: 0.6253\n",
      "Epoch 38/100\n",
      "166/166 [==============================] - 1s 3ms/step - loss: 0.6227 - accuracy: 0.8744 - val_loss: 1.6801 - val_accuracy: 0.6241\n",
      "Epoch 39/100\n",
      "166/166 [==============================] - 1s 4ms/step - loss: 0.6215 - accuracy: 0.8731 - val_loss: 1.7092 - val_accuracy: 0.5967\n",
      "Epoch 40/100\n",
      "166/166 [==============================] - 1s 4ms/step - loss: 0.6108 - accuracy: 0.8819 - val_loss: 1.6430 - val_accuracy: 0.6270\n",
      "Epoch 41/100\n",
      "166/166 [==============================] - 1s 3ms/step - loss: 0.6118 - accuracy: 0.8768 - val_loss: 1.6851 - val_accuracy: 0.6219\n",
      "Epoch 42/100\n",
      "166/166 [==============================] - 1s 3ms/step - loss: 0.6202 - accuracy: 0.8725 - val_loss: 1.4911 - val_accuracy: 0.6390\n",
      "Epoch 43/100\n",
      "166/166 [==============================] - 1s 4ms/step - loss: 0.6113 - accuracy: 0.8772 - val_loss: 1.8631 - val_accuracy: 0.6007\n",
      "Epoch 44/100\n",
      "166/166 [==============================] - 1s 4ms/step - loss: 0.6111 - accuracy: 0.8706 - val_loss: 1.4192 - val_accuracy: 0.6339\n",
      "Epoch 45/100\n",
      "166/166 [==============================] - 1s 4ms/step - loss: 0.6169 - accuracy: 0.8748 - val_loss: 1.5166 - val_accuracy: 0.6373\n",
      "Epoch 46/100\n",
      "166/166 [==============================] - 1s 4ms/step - loss: 0.6174 - accuracy: 0.8729 - val_loss: 1.6037 - val_accuracy: 0.6436\n",
      "Epoch 47/100\n",
      "166/166 [==============================] - 1s 4ms/step - loss: 0.6145 - accuracy: 0.8746 - val_loss: 1.3557 - val_accuracy: 0.6785\n",
      "Epoch 48/100\n",
      "166/166 [==============================] - 1s 4ms/step - loss: 0.6072 - accuracy: 0.8782 - val_loss: 1.3140 - val_accuracy: 0.6762\n",
      "Epoch 49/100\n",
      "166/166 [==============================] - 1s 5ms/step - loss: 0.5906 - accuracy: 0.8806 - val_loss: 1.4541 - val_accuracy: 0.6808\n",
      "Epoch 50/100\n",
      "166/166 [==============================] - 1s 5ms/step - loss: 0.5867 - accuracy: 0.8780 - val_loss: 1.5383 - val_accuracy: 0.6550\n",
      "Epoch 51/100\n",
      "166/166 [==============================] - 1s 5ms/step - loss: 0.6035 - accuracy: 0.8738 - val_loss: 1.7556 - val_accuracy: 0.5584\n",
      "Epoch 52/100\n",
      "166/166 [==============================] - 1s 5ms/step - loss: 0.5885 - accuracy: 0.8859 - val_loss: 1.6132 - val_accuracy: 0.6041\n",
      "Epoch 53/100\n",
      "166/166 [==============================] - 1s 5ms/step - loss: 0.5898 - accuracy: 0.8867 - val_loss: 1.7080 - val_accuracy: 0.6442\n",
      "Epoch 54/100\n",
      "166/166 [==============================] - 1s 4ms/step - loss: 0.5702 - accuracy: 0.8876 - val_loss: 1.5464 - val_accuracy: 0.6150\n",
      "Epoch 55/100\n",
      "166/166 [==============================] - 1s 4ms/step - loss: 0.5907 - accuracy: 0.8799 - val_loss: 1.7842 - val_accuracy: 0.6270\n",
      "Epoch 56/100\n",
      "166/166 [==============================] - 1s 5ms/step - loss: 0.5852 - accuracy: 0.8821 - val_loss: 1.4491 - val_accuracy: 0.6688\n",
      "Epoch 57/100\n",
      "166/166 [==============================] - 1s 3ms/step - loss: 0.5941 - accuracy: 0.8801 - val_loss: 1.6740 - val_accuracy: 0.6196\n",
      "Epoch 58/100\n",
      "166/166 [==============================] - 1s 4ms/step - loss: 0.6001 - accuracy: 0.8772 - val_loss: 1.5951 - val_accuracy: 0.6196\n",
      "Epoch 59/100\n",
      "166/166 [==============================] - 1s 4ms/step - loss: 0.5725 - accuracy: 0.8853 - val_loss: 1.6053 - val_accuracy: 0.6585\n",
      "Epoch 60/100\n",
      "166/166 [==============================] - 1s 5ms/step - loss: 0.6064 - accuracy: 0.8731 - val_loss: 1.6342 - val_accuracy: 0.6161\n",
      "Epoch 61/100\n",
      "166/166 [==============================] - 1s 4ms/step - loss: 0.5969 - accuracy: 0.8797 - val_loss: 1.5256 - val_accuracy: 0.6316\n",
      "Epoch 62/100\n",
      "166/166 [==============================] - 1s 4ms/step - loss: 0.5708 - accuracy: 0.8836 - val_loss: 1.6242 - val_accuracy: 0.6230\n",
      "Epoch 63/100\n",
      "166/166 [==============================] - 1s 5ms/step - loss: 0.5829 - accuracy: 0.8825 - val_loss: 1.3997 - val_accuracy: 0.6590\n",
      "Epoch 64/100\n",
      "166/166 [==============================] - 1s 5ms/step - loss: 0.5861 - accuracy: 0.8784 - val_loss: 1.8981 - val_accuracy: 0.5927\n",
      "Epoch 65/100\n",
      "166/166 [==============================] - 1s 5ms/step - loss: 0.5948 - accuracy: 0.8755 - val_loss: 1.4924 - val_accuracy: 0.6430\n",
      "Epoch 66/100\n",
      "166/166 [==============================] - 1s 5ms/step - loss: 0.5809 - accuracy: 0.8859 - val_loss: 1.8675 - val_accuracy: 0.5961\n",
      "Epoch 67/100\n",
      "166/166 [==============================] - 1s 3ms/step - loss: 0.5658 - accuracy: 0.8891 - val_loss: 1.4682 - val_accuracy: 0.6693\n",
      "Epoch 68/100\n",
      "166/166 [==============================] - 1s 4ms/step - loss: 0.5789 - accuracy: 0.8838 - val_loss: 1.5866 - val_accuracy: 0.6390\n",
      "Epoch 69/100\n",
      "166/166 [==============================] - 1s 3ms/step - loss: 0.5809 - accuracy: 0.8806 - val_loss: 1.5545 - val_accuracy: 0.6350\n",
      "Epoch 70/100\n",
      "166/166 [==============================] - 1s 4ms/step - loss: 0.5731 - accuracy: 0.8804 - val_loss: 1.5756 - val_accuracy: 0.6550\n",
      "Epoch 71/100\n",
      "166/166 [==============================] - 1s 4ms/step - loss: 0.5898 - accuracy: 0.8768 - val_loss: 1.6798 - val_accuracy: 0.6247\n",
      "Epoch 72/100\n",
      "166/166 [==============================] - 1s 3ms/step - loss: 0.5681 - accuracy: 0.8861 - val_loss: 1.6251 - val_accuracy: 0.6270\n",
      "Epoch 73/100\n",
      "166/166 [==============================] - 1s 4ms/step - loss: 0.5840 - accuracy: 0.8827 - val_loss: 1.6194 - val_accuracy: 0.6493\n",
      "Epoch 74/100\n",
      "166/166 [==============================] - 1s 4ms/step - loss: 0.5605 - accuracy: 0.8853 - val_loss: 1.7289 - val_accuracy: 0.5950\n",
      "Epoch 75/100\n",
      "166/166 [==============================] - 0s 3ms/step - loss: 0.5774 - accuracy: 0.8825 - val_loss: 1.5194 - val_accuracy: 0.6127\n",
      "Epoch 76/100\n",
      "166/166 [==============================] - 1s 3ms/step - loss: 0.5954 - accuracy: 0.8755 - val_loss: 1.3150 - val_accuracy: 0.6676\n",
      "Epoch 77/100\n",
      "166/166 [==============================] - 1s 4ms/step - loss: 0.5798 - accuracy: 0.8802 - val_loss: 1.4730 - val_accuracy: 0.6499\n",
      "Epoch 78/100\n",
      "166/166 [==============================] - 0s 3ms/step - loss: 0.5831 - accuracy: 0.8806 - val_loss: 1.6573 - val_accuracy: 0.6144\n",
      "Epoch 79/100\n",
      "166/166 [==============================] - 0s 3ms/step - loss: 0.5538 - accuracy: 0.8889 - val_loss: 1.6294 - val_accuracy: 0.6053\n",
      "Epoch 80/100\n",
      "166/166 [==============================] - 0s 3ms/step - loss: 0.5678 - accuracy: 0.8840 - val_loss: 2.0099 - val_accuracy: 0.5830\n",
      "Epoch 81/100\n",
      "166/166 [==============================] - 0s 3ms/step - loss: 0.5820 - accuracy: 0.8814 - val_loss: 1.7415 - val_accuracy: 0.6070\n",
      "Epoch 82/100\n",
      "166/166 [==============================] - 0s 3ms/step - loss: 0.5668 - accuracy: 0.8878 - val_loss: 1.4952 - val_accuracy: 0.6533\n",
      "Epoch 83/100\n",
      "166/166 [==============================] - 0s 3ms/step - loss: 0.5709 - accuracy: 0.8835 - val_loss: 1.5957 - val_accuracy: 0.6436\n",
      "Epoch 84/100\n",
      "166/166 [==============================] - 0s 3ms/step - loss: 0.5680 - accuracy: 0.8827 - val_loss: 1.8662 - val_accuracy: 0.5921\n",
      "Epoch 85/100\n",
      "166/166 [==============================] - 0s 3ms/step - loss: 0.5909 - accuracy: 0.8744 - val_loss: 1.4692 - val_accuracy: 0.6527\n",
      "Epoch 86/100\n",
      "166/166 [==============================] - 0s 3ms/step - loss: 0.5746 - accuracy: 0.8836 - val_loss: 1.6940 - val_accuracy: 0.6224\n",
      "Epoch 87/100\n",
      "166/166 [==============================] - 1s 4ms/step - loss: 0.5571 - accuracy: 0.8848 - val_loss: 1.6683 - val_accuracy: 0.6098\n",
      "Epoch 88/100\n",
      "166/166 [==============================] - 0s 3ms/step - loss: 0.5635 - accuracy: 0.8838 - val_loss: 1.7560 - val_accuracy: 0.5898\n",
      "Epoch 89/100\n",
      "166/166 [==============================] - 1s 3ms/step - loss: 0.5744 - accuracy: 0.8808 - val_loss: 1.7086 - val_accuracy: 0.6116\n",
      "Epoch 90/100\n",
      "166/166 [==============================] - 0s 3ms/step - loss: 0.5716 - accuracy: 0.8825 - val_loss: 1.6046 - val_accuracy: 0.6230\n",
      "Epoch 91/100\n",
      "166/166 [==============================] - 0s 3ms/step - loss: 0.5494 - accuracy: 0.8903 - val_loss: 1.6907 - val_accuracy: 0.6230\n",
      "Epoch 92/100\n",
      "166/166 [==============================] - 0s 3ms/step - loss: 0.5558 - accuracy: 0.8836 - val_loss: 1.5524 - val_accuracy: 0.6424\n",
      "Epoch 93/100\n",
      "166/166 [==============================] - 0s 3ms/step - loss: 0.5574 - accuracy: 0.8829 - val_loss: 1.6859 - val_accuracy: 0.6676\n",
      "Epoch 94/100\n",
      "166/166 [==============================] - 0s 3ms/step - loss: 0.5551 - accuracy: 0.8840 - val_loss: 1.6143 - val_accuracy: 0.6373\n",
      "Epoch 95/100\n",
      "166/166 [==============================] - 0s 3ms/step - loss: 0.5755 - accuracy: 0.8763 - val_loss: 1.4976 - val_accuracy: 0.6533\n",
      "Epoch 96/100\n",
      "166/166 [==============================] - 1s 3ms/step - loss: 0.5602 - accuracy: 0.8870 - val_loss: 1.5798 - val_accuracy: 0.6207\n",
      "Epoch 97/100\n",
      "166/166 [==============================] - 0s 3ms/step - loss: 0.5716 - accuracy: 0.8782 - val_loss: 1.4137 - val_accuracy: 0.6533\n",
      "Epoch 98/100\n",
      "166/166 [==============================] - 0s 3ms/step - loss: 0.5578 - accuracy: 0.8876 - val_loss: 1.2250 - val_accuracy: 0.6951\n",
      "Epoch 99/100\n",
      "166/166 [==============================] - 0s 3ms/step - loss: 0.5681 - accuracy: 0.8831 - val_loss: 1.5255 - val_accuracy: 0.6379\n",
      "Epoch 100/100\n",
      "166/166 [==============================] - 0s 3ms/step - loss: 0.5637 - accuracy: 0.8821 - val_loss: 1.5010 - val_accuracy: 0.6590\n",
      "55/55 - 0s - loss: 1.5010 - accuracy: 0.6590 - 70ms/epoch - 1ms/step\n",
      "Creator Split Neural Network - Loss: 1.5010019540786743, Accuracy: 0.6590389013290405\n",
      "55/55 [==============================] - 0s 1ms/step\n",
      "Classification Report:\n",
      "              precision    recall  f1-score   support\n",
      "\n",
      "           0       0.63      0.79      0.70       332\n",
      "           1       0.57      0.50      0.53       171\n",
      "           2       0.85      0.59      0.70       127\n",
      "           3       0.46      0.79      0.58       119\n",
      "           4       0.85      0.49      0.62       103\n",
      "           5       0.85      0.97      0.91       142\n",
      "           6       0.54      0.78      0.64        73\n",
      "           7       0.74      0.36      0.49       337\n",
      "           8       0.63      0.79      0.70       122\n",
      "           9       0.70      0.77      0.74       222\n",
      "\n",
      "    accuracy                           0.66      1748\n",
      "   macro avg       0.68      0.68      0.66      1748\n",
      "weighted avg       0.69      0.66      0.65      1748\n",
      "\n"
     ]
    }
   ],
   "source": [
    "# Creator Based Test/Train Split\n",
    "model = Sequential()\n",
    "model.add(Dense(256, activation='relu', input_shape=(X_train.shape[1],), kernel_regularizer=regularizers.l2(0.01)))\n",
    "model.add(BatchNormalization())\n",
    "model.add(Dropout(0.3))\n",
    "model.add(Dense(128, activation='relu', kernel_regularizer=regularizers.l2(0.01)))\n",
    "model.add(BatchNormalization())\n",
    "model.add(Dropout(0.3))\n",
    "model.add(Dense(64, activation='relu', kernel_regularizer=regularizers.l2(0.01)))\n",
    "model.add(BatchNormalization())\n",
    "model.add(Dropout(0.3))\n",
    "model.add(Dense(len(np.unique(y_train)), activation='softmax'))\n",
    "\n",
    "# Compile the model\n",
    "model.compile(optimizer='adam', loss='categorical_crossentropy', metrics=['accuracy'])\n",
    "\n",
    "# Train the model\n",
    "history = model.fit(X_train, y_train_categorical, epochs=100, batch_size=32, validation_data=(X_test, y_test_categorical))\n",
    "\n",
    "# Evaluate the model using the test data\n",
    "model_loss, model_accuracy = model.evaluate(X_test, y_test_categorical, verbose=2)\n",
    "print(f\"Creator Split Neural Network - Loss: {model_loss}, Accuracy: {model_accuracy}\")\n",
    "\n",
    "# Get classification report\n",
    "y_pred = model.predict(X_test)\n",
    "y_pred = y_pred.argmax(axis=1)\n",
    "model_storage['NN - Creator Split'] = classification_report(y_test, y_pred, output_dict=True)\n",
    "print(f\"Classification Report:\\n{classification_report(y_test, y_pred)}\")"
   ]
  },
  {
   "cell_type": "code",
   "execution_count": 65,
   "metadata": {},
   "outputs": [
    {
     "name": "stdout",
     "output_type": "stream",
     "text": [
      "Epoch 1/100\n",
      "166/166 [==============================] - 2s 5ms/step - loss: 4.2556 - accuracy: 0.5669 - val_loss: 4.4842 - val_accuracy: 0.1380\n",
      "Epoch 2/100\n",
      "166/166 [==============================] - 1s 4ms/step - loss: 2.8923 - accuracy: 0.7509 - val_loss: 3.4332 - val_accuracy: 0.4151\n",
      "Epoch 3/100\n",
      "166/166 [==============================] - 1s 4ms/step - loss: 2.2013 - accuracy: 0.7873 - val_loss: 2.2042 - val_accuracy: 0.6701\n",
      "Epoch 4/100\n",
      "166/166 [==============================] - 1s 4ms/step - loss: 1.7447 - accuracy: 0.8013 - val_loss: 1.5658 - val_accuracy: 0.8279\n",
      "Epoch 5/100\n",
      "166/166 [==============================] - 1s 3ms/step - loss: 1.4352 - accuracy: 0.8181 - val_loss: 1.2812 - val_accuracy: 0.8268\n",
      "Epoch 6/100\n",
      "166/166 [==============================] - 1s 5ms/step - loss: 1.2215 - accuracy: 0.8285 - val_loss: 1.1862 - val_accuracy: 0.8132\n",
      "Epoch 7/100\n",
      "166/166 [==============================] - 1s 4ms/step - loss: 1.0709 - accuracy: 0.8379 - val_loss: 1.0603 - val_accuracy: 0.8217\n",
      "Epoch 8/100\n",
      "166/166 [==============================] - 1s 5ms/step - loss: 0.9697 - accuracy: 0.8447 - val_loss: 0.9671 - val_accuracy: 0.8393\n",
      "Epoch 9/100\n",
      "166/166 [==============================] - 1s 5ms/step - loss: 0.9361 - accuracy: 0.8385 - val_loss: 0.9085 - val_accuracy: 0.8348\n",
      "Epoch 10/100\n",
      "166/166 [==============================] - 1s 6ms/step - loss: 0.8540 - accuracy: 0.8474 - val_loss: 0.9609 - val_accuracy: 0.7973\n",
      "Epoch 11/100\n",
      "166/166 [==============================] - 1s 4ms/step - loss: 0.8396 - accuracy: 0.8521 - val_loss: 0.8096 - val_accuracy: 0.8524\n",
      "Epoch 12/100\n",
      "166/166 [==============================] - 1s 6ms/step - loss: 0.8056 - accuracy: 0.8491 - val_loss: 0.8167 - val_accuracy: 0.8507\n",
      "Epoch 13/100\n",
      "166/166 [==============================] - 1s 4ms/step - loss: 0.7692 - accuracy: 0.8576 - val_loss: 0.8383 - val_accuracy: 0.8387\n",
      "Epoch 14/100\n",
      "166/166 [==============================] - 1s 5ms/step - loss: 0.7681 - accuracy: 0.8553 - val_loss: 0.7927 - val_accuracy: 0.8438\n",
      "Epoch 15/100\n",
      "166/166 [==============================] - 1s 4ms/step - loss: 0.7503 - accuracy: 0.8595 - val_loss: 0.7670 - val_accuracy: 0.8580\n",
      "Epoch 16/100\n",
      "166/166 [==============================] - 1s 3ms/step - loss: 0.7598 - accuracy: 0.8525 - val_loss: 0.8428 - val_accuracy: 0.8274\n",
      "Epoch 17/100\n",
      "166/166 [==============================] - 1s 5ms/step - loss: 0.7408 - accuracy: 0.8481 - val_loss: 0.8495 - val_accuracy: 0.8189\n",
      "Epoch 18/100\n",
      "166/166 [==============================] - 1s 3ms/step - loss: 0.6986 - accuracy: 0.8689 - val_loss: 0.7626 - val_accuracy: 0.8455\n",
      "Epoch 19/100\n",
      "166/166 [==============================] - 1s 4ms/step - loss: 0.7020 - accuracy: 0.8593 - val_loss: 0.8106 - val_accuracy: 0.8348\n",
      "Epoch 20/100\n",
      "166/166 [==============================] - 1s 4ms/step - loss: 0.6887 - accuracy: 0.8699 - val_loss: 0.8171 - val_accuracy: 0.8251\n",
      "Epoch 21/100\n",
      "166/166 [==============================] - 1s 4ms/step - loss: 0.6963 - accuracy: 0.8644 - val_loss: 0.7648 - val_accuracy: 0.8495\n",
      "Epoch 22/100\n",
      "166/166 [==============================] - 1s 4ms/step - loss: 0.6905 - accuracy: 0.8634 - val_loss: 0.7800 - val_accuracy: 0.8319\n",
      "Epoch 23/100\n",
      "166/166 [==============================] - 1s 3ms/step - loss: 0.6699 - accuracy: 0.8697 - val_loss: 0.8412 - val_accuracy: 0.8433\n",
      "Epoch 24/100\n",
      "166/166 [==============================] - 1s 5ms/step - loss: 0.6688 - accuracy: 0.8649 - val_loss: 0.7832 - val_accuracy: 0.8438\n",
      "Epoch 25/100\n",
      "166/166 [==============================] - 1s 5ms/step - loss: 0.6759 - accuracy: 0.8632 - val_loss: 0.9150 - val_accuracy: 0.8257\n",
      "Epoch 26/100\n",
      "166/166 [==============================] - 3s 15ms/step - loss: 0.6744 - accuracy: 0.8682 - val_loss: 0.7817 - val_accuracy: 0.8359\n",
      "Epoch 27/100\n",
      "166/166 [==============================] - 1s 8ms/step - loss: 0.6532 - accuracy: 0.8706 - val_loss: 0.7916 - val_accuracy: 0.8325\n",
      "Epoch 28/100\n",
      "166/166 [==============================] - 1s 7ms/step - loss: 0.6512 - accuracy: 0.8693 - val_loss: 0.7059 - val_accuracy: 0.8597\n",
      "Epoch 29/100\n",
      "166/166 [==============================] - 1s 7ms/step - loss: 0.6659 - accuracy: 0.8659 - val_loss: 0.7389 - val_accuracy: 0.8507\n",
      "Epoch 30/100\n",
      "166/166 [==============================] - 1s 7ms/step - loss: 0.6542 - accuracy: 0.8682 - val_loss: 0.6922 - val_accuracy: 0.8580\n",
      "Epoch 31/100\n",
      "166/166 [==============================] - 1s 5ms/step - loss: 0.6814 - accuracy: 0.8587 - val_loss: 0.7164 - val_accuracy: 0.8529\n",
      "Epoch 32/100\n",
      "166/166 [==============================] - 1s 5ms/step - loss: 0.6566 - accuracy: 0.8695 - val_loss: 0.7078 - val_accuracy: 0.8631\n",
      "Epoch 33/100\n",
      "166/166 [==============================] - 1s 3ms/step - loss: 0.6403 - accuracy: 0.8700 - val_loss: 0.7462 - val_accuracy: 0.8478\n",
      "Epoch 34/100\n",
      "166/166 [==============================] - 1s 3ms/step - loss: 0.6153 - accuracy: 0.8795 - val_loss: 0.7430 - val_accuracy: 0.8410\n",
      "Epoch 35/100\n",
      "166/166 [==============================] - 1s 4ms/step - loss: 0.6453 - accuracy: 0.8644 - val_loss: 0.7656 - val_accuracy: 0.8484\n",
      "Epoch 36/100\n",
      "166/166 [==============================] - 1s 3ms/step - loss: 0.6454 - accuracy: 0.8699 - val_loss: 0.7540 - val_accuracy: 0.8558\n",
      "Epoch 37/100\n",
      "166/166 [==============================] - 1s 3ms/step - loss: 0.6365 - accuracy: 0.8719 - val_loss: 0.8914 - val_accuracy: 0.8211\n",
      "Epoch 38/100\n",
      "166/166 [==============================] - 1s 3ms/step - loss: 0.6297 - accuracy: 0.8755 - val_loss: 0.7975 - val_accuracy: 0.8444\n",
      "Epoch 39/100\n",
      "166/166 [==============================] - 0s 3ms/step - loss: 0.6474 - accuracy: 0.8719 - val_loss: 0.7948 - val_accuracy: 0.8399\n",
      "Epoch 40/100\n",
      "166/166 [==============================] - 1s 4ms/step - loss: 0.6381 - accuracy: 0.8725 - val_loss: 0.7905 - val_accuracy: 0.8427\n",
      "Epoch 41/100\n",
      "166/166 [==============================] - 1s 3ms/step - loss: 0.6107 - accuracy: 0.8797 - val_loss: 0.7908 - val_accuracy: 0.8467\n",
      "Epoch 42/100\n",
      "166/166 [==============================] - 1s 4ms/step - loss: 0.6130 - accuracy: 0.8763 - val_loss: 0.6923 - val_accuracy: 0.8677\n",
      "Epoch 43/100\n",
      "166/166 [==============================] - 1s 3ms/step - loss: 0.6415 - accuracy: 0.8706 - val_loss: 0.7708 - val_accuracy: 0.8433\n",
      "Epoch 44/100\n",
      "166/166 [==============================] - 1s 3ms/step - loss: 0.6177 - accuracy: 0.8782 - val_loss: 0.8190 - val_accuracy: 0.8342\n",
      "Epoch 45/100\n",
      "166/166 [==============================] - 1s 3ms/step - loss: 0.6292 - accuracy: 0.8700 - val_loss: 0.7383 - val_accuracy: 0.8518\n",
      "Epoch 46/100\n",
      "166/166 [==============================] - 1s 5ms/step - loss: 0.6127 - accuracy: 0.8795 - val_loss: 0.7234 - val_accuracy: 0.8444\n",
      "Epoch 47/100\n",
      "166/166 [==============================] - 1s 3ms/step - loss: 0.5909 - accuracy: 0.8838 - val_loss: 0.7434 - val_accuracy: 0.8450\n",
      "Epoch 48/100\n",
      "166/166 [==============================] - 1s 5ms/step - loss: 0.6146 - accuracy: 0.8770 - val_loss: 0.7217 - val_accuracy: 0.8631\n",
      "Epoch 49/100\n",
      "166/166 [==============================] - 1s 3ms/step - loss: 0.6059 - accuracy: 0.8723 - val_loss: 0.7887 - val_accuracy: 0.8387\n",
      "Epoch 50/100\n",
      "166/166 [==============================] - 1s 4ms/step - loss: 0.6033 - accuracy: 0.8784 - val_loss: 0.7106 - val_accuracy: 0.8410\n",
      "Epoch 51/100\n",
      "166/166 [==============================] - 1s 4ms/step - loss: 0.6006 - accuracy: 0.8793 - val_loss: 0.7443 - val_accuracy: 0.8455\n",
      "Epoch 52/100\n",
      "166/166 [==============================] - 1s 4ms/step - loss: 0.5987 - accuracy: 0.8765 - val_loss: 0.6900 - val_accuracy: 0.8609\n",
      "Epoch 53/100\n",
      "166/166 [==============================] - 1s 3ms/step - loss: 0.6149 - accuracy: 0.8738 - val_loss: 0.7338 - val_accuracy: 0.8495\n",
      "Epoch 54/100\n",
      "166/166 [==============================] - 1s 4ms/step - loss: 0.5947 - accuracy: 0.8782 - val_loss: 0.6698 - val_accuracy: 0.8626\n",
      "Epoch 55/100\n",
      "166/166 [==============================] - 1s 6ms/step - loss: 0.6013 - accuracy: 0.8806 - val_loss: 0.7422 - val_accuracy: 0.8472\n",
      "Epoch 56/100\n",
      "166/166 [==============================] - 1s 4ms/step - loss: 0.5866 - accuracy: 0.8846 - val_loss: 0.7616 - val_accuracy: 0.8421\n",
      "Epoch 57/100\n",
      "166/166 [==============================] - 1s 4ms/step - loss: 0.6011 - accuracy: 0.8787 - val_loss: 0.7250 - val_accuracy: 0.8558\n",
      "Epoch 58/100\n",
      "166/166 [==============================] - 1s 3ms/step - loss: 0.5964 - accuracy: 0.8808 - val_loss: 0.9163 - val_accuracy: 0.7859\n",
      "Epoch 59/100\n",
      "166/166 [==============================] - 1s 5ms/step - loss: 0.6104 - accuracy: 0.8727 - val_loss: 0.8093 - val_accuracy: 0.8450\n",
      "Epoch 60/100\n",
      "166/166 [==============================] - 1s 4ms/step - loss: 0.5927 - accuracy: 0.8823 - val_loss: 0.7110 - val_accuracy: 0.8518\n",
      "Epoch 61/100\n",
      "166/166 [==============================] - 1s 4ms/step - loss: 0.5827 - accuracy: 0.8810 - val_loss: 0.8430 - val_accuracy: 0.8489\n",
      "Epoch 62/100\n",
      "166/166 [==============================] - 1s 3ms/step - loss: 0.6009 - accuracy: 0.8804 - val_loss: 0.7583 - val_accuracy: 0.8387\n",
      "Epoch 63/100\n",
      "166/166 [==============================] - 1s 4ms/step - loss: 0.5836 - accuracy: 0.8838 - val_loss: 0.8210 - val_accuracy: 0.8387\n",
      "Epoch 64/100\n",
      "166/166 [==============================] - 1s 3ms/step - loss: 0.5957 - accuracy: 0.8802 - val_loss: 0.7136 - val_accuracy: 0.8563\n",
      "Epoch 65/100\n",
      "166/166 [==============================] - 1s 3ms/step - loss: 0.5850 - accuracy: 0.8761 - val_loss: 0.8416 - val_accuracy: 0.8262\n",
      "Epoch 66/100\n",
      "166/166 [==============================] - 0s 3ms/step - loss: 0.6062 - accuracy: 0.8753 - val_loss: 0.7556 - val_accuracy: 0.8467\n",
      "Epoch 67/100\n",
      "166/166 [==============================] - 0s 3ms/step - loss: 0.5804 - accuracy: 0.8829 - val_loss: 0.7780 - val_accuracy: 0.8365\n",
      "Epoch 68/100\n",
      "166/166 [==============================] - 1s 3ms/step - loss: 0.5739 - accuracy: 0.8893 - val_loss: 0.7133 - val_accuracy: 0.8495\n",
      "Epoch 69/100\n",
      "166/166 [==============================] - 1s 3ms/step - loss: 0.5707 - accuracy: 0.8870 - val_loss: 0.7520 - val_accuracy: 0.8529\n",
      "Epoch 70/100\n",
      "166/166 [==============================] - 1s 4ms/step - loss: 0.5728 - accuracy: 0.8850 - val_loss: 0.8473 - val_accuracy: 0.8319\n",
      "Epoch 71/100\n",
      "166/166 [==============================] - 1s 4ms/step - loss: 0.5735 - accuracy: 0.8806 - val_loss: 0.7601 - val_accuracy: 0.8478\n",
      "Epoch 72/100\n",
      "166/166 [==============================] - 1s 3ms/step - loss: 0.5665 - accuracy: 0.8859 - val_loss: 0.7521 - val_accuracy: 0.8444\n",
      "Epoch 73/100\n",
      "166/166 [==============================] - 1s 5ms/step - loss: 0.5709 - accuracy: 0.8886 - val_loss: 0.7560 - val_accuracy: 0.8330\n",
      "Epoch 74/100\n",
      "166/166 [==============================] - 1s 4ms/step - loss: 0.6034 - accuracy: 0.8774 - val_loss: 0.7565 - val_accuracy: 0.8450\n",
      "Epoch 75/100\n",
      "166/166 [==============================] - 1s 4ms/step - loss: 0.5659 - accuracy: 0.8874 - val_loss: 0.7196 - val_accuracy: 0.8558\n",
      "Epoch 76/100\n",
      "166/166 [==============================] - 1s 4ms/step - loss: 0.5731 - accuracy: 0.8814 - val_loss: 0.8248 - val_accuracy: 0.8387\n",
      "Epoch 77/100\n",
      "166/166 [==============================] - 1s 3ms/step - loss: 0.5921 - accuracy: 0.8776 - val_loss: 0.7874 - val_accuracy: 0.8387\n",
      "Epoch 78/100\n",
      "166/166 [==============================] - 1s 4ms/step - loss: 0.5799 - accuracy: 0.8791 - val_loss: 0.7080 - val_accuracy: 0.8620\n",
      "Epoch 79/100\n",
      "166/166 [==============================] - 1s 3ms/step - loss: 0.5541 - accuracy: 0.8889 - val_loss: 0.6872 - val_accuracy: 0.8603\n",
      "Epoch 80/100\n",
      "166/166 [==============================] - 1s 3ms/step - loss: 0.5672 - accuracy: 0.8867 - val_loss: 0.7320 - val_accuracy: 0.8558\n",
      "Epoch 81/100\n",
      "166/166 [==============================] - 1s 4ms/step - loss: 0.5622 - accuracy: 0.8887 - val_loss: 0.8262 - val_accuracy: 0.8387\n",
      "Epoch 82/100\n",
      "166/166 [==============================] - 1s 3ms/step - loss: 0.5607 - accuracy: 0.8899 - val_loss: 0.7736 - val_accuracy: 0.8472\n",
      "Epoch 83/100\n",
      "166/166 [==============================] - 1s 4ms/step - loss: 0.5842 - accuracy: 0.8825 - val_loss: 0.7204 - val_accuracy: 0.8524\n",
      "Epoch 84/100\n",
      "166/166 [==============================] - 1s 3ms/step - loss: 0.5778 - accuracy: 0.8859 - val_loss: 0.7725 - val_accuracy: 0.8410\n",
      "Epoch 85/100\n",
      "166/166 [==============================] - 1s 3ms/step - loss: 0.5791 - accuracy: 0.8757 - val_loss: 0.7354 - val_accuracy: 0.8433\n",
      "Epoch 86/100\n",
      "166/166 [==============================] - 1s 4ms/step - loss: 0.5689 - accuracy: 0.8772 - val_loss: 0.7378 - val_accuracy: 0.8495\n",
      "Epoch 87/100\n",
      "166/166 [==============================] - 1s 4ms/step - loss: 0.5618 - accuracy: 0.8836 - val_loss: 0.6768 - val_accuracy: 0.8609\n",
      "Epoch 88/100\n",
      "166/166 [==============================] - 1s 3ms/step - loss: 0.5621 - accuracy: 0.8810 - val_loss: 0.7276 - val_accuracy: 0.8427\n",
      "Epoch 89/100\n",
      "166/166 [==============================] - 1s 3ms/step - loss: 0.5619 - accuracy: 0.8857 - val_loss: 0.7677 - val_accuracy: 0.8444\n",
      "Epoch 90/100\n",
      "166/166 [==============================] - 1s 4ms/step - loss: 0.5628 - accuracy: 0.8848 - val_loss: 0.7459 - val_accuracy: 0.8489\n",
      "Epoch 91/100\n",
      "166/166 [==============================] - 1s 3ms/step - loss: 0.5445 - accuracy: 0.8904 - val_loss: 0.6697 - val_accuracy: 0.8671\n",
      "Epoch 92/100\n",
      "166/166 [==============================] - 1s 3ms/step - loss: 0.5707 - accuracy: 0.8818 - val_loss: 0.7342 - val_accuracy: 0.8518\n",
      "Epoch 93/100\n",
      "166/166 [==============================] - 1s 3ms/step - loss: 0.5700 - accuracy: 0.8846 - val_loss: 0.7450 - val_accuracy: 0.8455\n",
      "Epoch 94/100\n",
      "166/166 [==============================] - 1s 5ms/step - loss: 0.5441 - accuracy: 0.8872 - val_loss: 0.6813 - val_accuracy: 0.8524\n",
      "Epoch 95/100\n",
      "166/166 [==============================] - 1s 3ms/step - loss: 0.5469 - accuracy: 0.8916 - val_loss: 0.7595 - val_accuracy: 0.8353\n",
      "Epoch 96/100\n",
      "166/166 [==============================] - 1s 4ms/step - loss: 0.5685 - accuracy: 0.8872 - val_loss: 0.6820 - val_accuracy: 0.8529\n",
      "Epoch 97/100\n",
      "166/166 [==============================] - 1s 5ms/step - loss: 0.5685 - accuracy: 0.8819 - val_loss: 0.6869 - val_accuracy: 0.8609\n",
      "Epoch 98/100\n",
      "166/166 [==============================] - 1s 5ms/step - loss: 0.5652 - accuracy: 0.8867 - val_loss: 0.7067 - val_accuracy: 0.8529\n",
      "Epoch 99/100\n",
      "166/166 [==============================] - 1s 4ms/step - loss: 0.5641 - accuracy: 0.8857 - val_loss: 0.6948 - val_accuracy: 0.8575\n",
      "Epoch 100/100\n",
      "166/166 [==============================] - 1s 5ms/step - loss: 0.5554 - accuracy: 0.8882 - val_loss: 0.7105 - val_accuracy: 0.8484\n",
      "56/56 - 0s - loss: 0.7105 - accuracy: 0.8484 - 82ms/epoch - 1ms/step\n",
      "Random Split Neural Network - Loss: 0.7104781866073608, Accuracy: 0.8483815789222717\n",
      "56/56 [==============================] - 0s 1ms/step\n",
      "Classification Report:\n",
      "              precision    recall  f1-score   support\n",
      "\n",
      "           0       0.75      0.83      0.79       321\n",
      "           1       0.81      0.83      0.82       161\n",
      "           2       0.91      0.86      0.89       139\n",
      "           3       0.84      0.97      0.90       130\n",
      "           4       0.95      0.82      0.88       120\n",
      "           5       0.95      0.95      0.95       133\n",
      "           6       0.79      0.89      0.84        74\n",
      "           7       0.85      0.77      0.80       266\n",
      "           8       0.85      0.94      0.89       190\n",
      "           9       0.93      0.77      0.84       227\n",
      "\n",
      "    accuracy                           0.85      1761\n",
      "   macro avg       0.86      0.86      0.86      1761\n",
      "weighted avg       0.85      0.85      0.85      1761\n",
      "\n"
     ]
    }
   ],
   "source": [
    "# Random Based Test/Train Split\n",
    "model = Sequential()\n",
    "model.add(Dense(256, activation='relu', input_shape=(X_train_rand.shape[1],), kernel_regularizer=regularizers.l2(0.01)))\n",
    "model.add(BatchNormalization())\n",
    "model.add(Dropout(0.3))\n",
    "model.add(Dense(128, activation='relu', kernel_regularizer=regularizers.l2(0.01)))\n",
    "model.add(BatchNormalization())\n",
    "model.add(Dropout(0.3))\n",
    "model.add(Dense(64, activation='relu', kernel_regularizer=regularizers.l2(0.01)))\n",
    "model.add(BatchNormalization())\n",
    "model.add(Dropout(0.3))\n",
    "model.add(Dense(len(np.unique(y_train_rand)), activation='softmax'))\n",
    "\n",
    "# Compile the model\n",
    "model.compile(optimizer='adam', loss='categorical_crossentropy', metrics=['accuracy'])\n",
    "\n",
    "# Train the model\n",
    "history = model.fit(X_train, y_train_categorical, epochs=100, batch_size=32, validation_data=(X_test_rand, y_test_rand_categorical))\n",
    "\n",
    "# Evaluate the model using the test data\n",
    "model_loss, model_accuracy = model.evaluate(X_test_rand, y_test_rand_categorical, verbose=2)\n",
    "print(f\"Random Split Neural Network - Loss: {model_loss}, Accuracy: {model_accuracy}\")\n",
    "\n",
    "# Get classification report\n",
    "y_pred = model.predict(X_test_rand)\n",
    "y_pred = y_pred.argmax(axis=1)\n",
    "model_storage['NN - Random Split'] = classification_report(y_test_rand, y_pred, output_dict=True)\n",
    "print(f\"Classification Report:\\n{classification_report(y_test_rand, y_pred)}\")\n"
   ]
  },
  {
   "attachments": {},
   "cell_type": "markdown",
   "metadata": {},
   "source": [
    "# Random Forest"
   ]
  },
  {
   "cell_type": "code",
   "execution_count": 68,
   "metadata": {},
   "outputs": [
    {
     "name": "stdout",
     "output_type": "stream",
     "text": [
      "Random Forest Accuracy: 0.6516018306636155\n",
      "Classification Report:\n",
      "              precision    recall  f1-score   support\n",
      "\n",
      "           0       0.56      0.86      0.68       332\n",
      "           1       0.00      0.00      0.00       171\n",
      "           2       0.90      0.94      0.92       127\n",
      "           3       0.88      0.78      0.83       119\n",
      "           4       1.00      0.36      0.53       103\n",
      "           5       0.96      0.90      0.93       142\n",
      "           6       0.62      0.34      0.44        73\n",
      "           7       0.41      0.47      0.44       337\n",
      "           8       0.88      0.87      0.88       122\n",
      "           9       0.68      0.85      0.76       222\n",
      "\n",
      "    accuracy                           0.65      1748\n",
      "   macro avg       0.69      0.64      0.64      1748\n",
      "weighted avg       0.62      0.65      0.62      1748\n",
      "\n"
     ]
    }
   ],
   "source": [
    "# Creator Based Test/Train Split\n",
    "rf = RandomForestClassifier(n_estimators=250, max_depth = 8, random_state=42)\n",
    "rf.fit(X_train, y_train)\n",
    "y_pred = rf.predict(X_test)\n",
    "print(f'Random Forest Accuracy: {accuracy_score(y_test, y_pred)}')\n",
    "model_storage['RF - Creator Split'] = classification_report(y_test, y_pred, output_dict=True)\n",
    "print(f\"Classification Report:\\n{classification_report(y_test, y_pred)}\")"
   ]
  },
  {
   "cell_type": "code",
   "execution_count": 69,
   "metadata": {},
   "outputs": [
    {
     "name": "stdout",
     "output_type": "stream",
     "text": [
      "Random Forest Accuracy: 0.889267461669506\n",
      "Classification Report:\n",
      "              precision    recall  f1-score   support\n",
      "\n",
      "           0       0.84      0.77      0.80       321\n",
      "           1       0.92      0.75      0.82       161\n",
      "           2       0.95      0.96      0.96       139\n",
      "           3       0.97      0.95      0.96       130\n",
      "           4       0.92      0.92      0.92       120\n",
      "           5       0.95      0.95      0.95       133\n",
      "           6       0.98      0.81      0.89        74\n",
      "           7       0.82      0.94      0.88       266\n",
      "           8       0.91      0.96      0.93       190\n",
      "           9       0.85      0.93      0.89       227\n",
      "\n",
      "    accuracy                           0.89      1761\n",
      "   macro avg       0.91      0.89      0.90      1761\n",
      "weighted avg       0.89      0.89      0.89      1761\n",
      "\n"
     ]
    }
   ],
   "source": [
    "# Random Based Test/Train Split\n",
    "rf = RandomForestClassifier(n_estimators=250, max_depth = 8, random_state=42)\n",
    "rf.fit(X_train_rand, y_train_rand)\n",
    "y_pred = rf.predict(X_test_rand)\n",
    "print(f'Random Forest Accuracy: {accuracy_score(y_test_rand, y_pred)}')\n",
    "model_storage['RF - Random Split'] = classification_report(y_test_rand, y_pred, output_dict=True)\n",
    "print(f\"Classification Report:\\n{classification_report(y_test_rand, y_pred)}\")"
   ]
  },
  {
   "attachments": {},
   "cell_type": "markdown",
   "metadata": {},
   "source": [
    "# Gaussian Naive Bayes"
   ]
  },
  {
   "cell_type": "code",
   "execution_count": 71,
   "metadata": {},
   "outputs": [
    {
     "name": "stdout",
     "output_type": "stream",
     "text": [
      "Gaussian Naive Bayes Accuracy: 0.45423340961098396\n",
      "Classification Report:\n",
      "              precision    recall  f1-score   support\n",
      "\n",
      "           0       0.68      0.48      0.57       332\n",
      "           1       0.14      0.09      0.11       171\n",
      "           2       0.63      0.92      0.75       127\n",
      "           3       0.81      0.90      0.85       119\n",
      "           4       0.73      0.26      0.39       103\n",
      "           5       0.92      0.80      0.85       142\n",
      "           6       0.06      0.29      0.09        73\n",
      "           7       0.45      0.44      0.45       337\n",
      "           8       0.78      0.57      0.65       122\n",
      "           9       0.12      0.07      0.09       222\n",
      "\n",
      "    accuracy                           0.45      1748\n",
      "   macro avg       0.53      0.48      0.48      1748\n",
      "weighted avg       0.52      0.45      0.47      1748\n",
      "\n"
     ]
    }
   ],
   "source": [
    "# GNB with Creator based test/train split\n",
    "gnb = GaussianNB()\n",
    "gnb.fit(X_train, y_train)\n",
    "y_pred = gnb.predict(X_test)\n",
    "print(f'Gaussian Naive Bayes Accuracy: {accuracy_score(y_test, y_pred)}')\n",
    "model_storage['GNB - Creator Split'] = classification_report(y_test, y_pred, output_dict=True)\n",
    "print(f\"Classification Report:\\n{classification_report(y_test, y_pred)}\")"
   ]
  },
  {
   "cell_type": "code",
   "execution_count": 72,
   "metadata": {},
   "outputs": [
    {
     "name": "stdout",
     "output_type": "stream",
     "text": [
      "Gaussian Naive Bayes Accuracy: 0.5587734241908007\n",
      "Classification Report:\n",
      "              precision    recall  f1-score   support\n",
      "\n",
      "           0       0.85      0.41      0.55       321\n",
      "           1       0.54      0.30      0.38       161\n",
      "           2       0.76      0.97      0.85       139\n",
      "           3       0.83      0.69      0.75       130\n",
      "           4       0.68      0.85      0.76       120\n",
      "           5       0.68      0.95      0.79       133\n",
      "           6       0.16      0.89      0.27        74\n",
      "           7       0.46      0.48      0.47       266\n",
      "           8       0.84      0.53      0.65       190\n",
      "           9       0.71      0.24      0.36       227\n",
      "\n",
      "    accuracy                           0.56      1761\n",
      "   macro avg       0.65      0.63      0.58      1761\n",
      "weighted avg       0.68      0.56      0.57      1761\n",
      "\n"
     ]
    }
   ],
   "source": [
    "# GNB with Random based test/train split\n",
    "gnb = GaussianNB()\n",
    "gnb.fit(X_train_rand, y_train_rand)\n",
    "y_pred = gnb.predict(X_test_rand)\n",
    "print(f'Gaussian Naive Bayes Accuracy: {accuracy_score(y_test_rand, y_pred)}')\n",
    "model_storage['GNB - Random Split'] = classification_report(y_test_rand, y_pred, output_dict=True)\n",
    "print(f\"Classification Report:\\n{classification_report(y_test_rand, y_pred)}\")"
   ]
  },
  {
   "attachments": {},
   "cell_type": "markdown",
   "metadata": {},
   "source": [
    "## Plot Comparisons"
   ]
  },
  {
   "cell_type": "code",
   "execution_count": 158,
   "metadata": {},
   "outputs": [],
   "source": [
    "# Make dictionaries to color/shape code results\n",
    "color_dict = {key: ('r' if \"LR\" in key else 'g' if \"RF\" in key else 'b' if \"GNB\" in key else 'y') for key in model_storage.keys()}\n",
    "marker_dict = {key: (\"o\" if \"Creator\" in key else \"x\") for key in model_storage.keys()}"
   ]
  },
  {
   "cell_type": "code",
   "execution_count": 159,
   "metadata": {},
   "outputs": [
    {
     "data": {
      "image/png": "[encoded data removed]",
      "text/plain": [
       "<Figure size 720x360 with 1 Axes>"
      ]
     },
     "metadata": {
      "needs_background": "light"
     },
     "output_type": "display_data"
    }
   ],
   "source": [
    "x_keys = ['precision', 'recall', 'f1-score']\n",
    "x_ticks = x_keys + ['accuracy']\n",
    "for key in model_storage.keys():\n",
    "    y_plot = []\n",
    "    for i in x_keys:\n",
    "        y_plot.append(model_storage[key]['macro avg'][i])\n",
    "    y_plot.append(model_storage[key]['accuracy'])\n",
    "    plt.scatter(x_ticks, y_plot, marker=marker_dict[key], color=color_dict[key], label=key)\n",
    "plt.legend(model_storage.keys())\n",
    "fig = plt.gcf()\n",
    "fig.set_size_inches(10, 5)\n",
    "plt.title('Macro Avg Metrics by Model Type and Split Type')\n",
    "plt.yticks(np.arange(0.5, 0.95, step=0.05))\n",
    "plt.show()"
   ]
  },
  {
   "cell_type": "code",
   "execution_count": 166,
   "metadata": {},
   "outputs": [
    {
     "data": {
      "text/plain": [
       "<matplotlib.legend.Legend at 0x7fd3c99d27d0>"
      ]
     },
     "execution_count": 166,
     "metadata": {},
     "output_type": "execute_result"
    },
    {
     "data": {
      "image/png": "[encoded data removed]",
      "text/plain": [
       "<Figure size 720x360 with 1 Axes>"
      ]
     },
     "metadata": {
      "needs_background": "light"
     },
     "output_type": "display_data"
    }
   ],
   "source": [
    "for key in model_storage.keys():\n",
    "    f1 = []\n",
    "    y_val = []\n",
    "    for i in range(0,10):\n",
    "        f1.append(model_storage[key][str(i)]['f1-score'])\n",
    "        y_val.append(i)\n",
    "    plt.scatter(y_val, f1, label=key, marker=marker_dict[key], color=color_dict[key])\n",
    "plt.xticks(y_val)\n",
    "fig = plt.gcf()\n",
    "fig.set_size_inches(10, 5)\n",
    "plt.title('F1 Score per Position by Model Type and Split Type')\n",
    "plt.yticks(np.arange(0, 1.1, step=0.1))\n",
    "plt.legend()\n"
   ]
  },
  {
   "cell_type": "code",
   "execution_count": null,
   "metadata": {},
   "outputs": [],
   "source": []
  }
 ],
 "metadata": {
  "kernelspec": {
   "display_name": "myvenv",
   "language": "python",
   "name": "python3"
  },
  "language_info": {
   "codemirror_mode": {
    "name": "ipython",
    "version": 3
   },
   "file_extension": ".py",
   "mimetype": "text/x-python",
   "name": "python",
   "nbconvert_exporter": "python",
   "pygments_lexer": "ipython3",
   "version": "3.7.11"
  },
  "orig_nbformat": 4
 },
 "nbformat": 4,
 "nbformat_minor": 2
}
